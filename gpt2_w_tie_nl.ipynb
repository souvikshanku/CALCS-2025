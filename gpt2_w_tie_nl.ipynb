{
 "cells": [
  {
   "cell_type": "code",
   "execution_count": 1,
   "id": "abd9b481-8295-4762-b807-5cf076b010cd",
   "metadata": {
    "tags": []
   },
   "outputs": [
    {
     "data": {
      "text/plain": [
       "840"
      ]
     },
     "execution_count": 1,
     "metadata": {},
     "output_type": "execute_result"
    }
   ],
   "source": [
    "import gc\n",
    "import re\n",
    "import pickle\n",
    "\n",
    "import dill\n",
    "import pandas as pd\n",
    "import matplotlib.pyplot as plt\n",
    "\n",
    "from sklearn.model_selection import train_test_split\n",
    "from sklearn.metrics import precision_score, recall_score, f1_score, accuracy_score\n",
    "\n",
    "import torch\n",
    "import torch.nn.functional as F\n",
    "import torch.nn as nn\n",
    "from torch.utils.data import Dataset, DataLoader\n",
    "from transformers import AutoTokenizer, AutoModelForMaskedLM, AutoModelForSequenceClassification, AutoModel, GPT2Tokenizer\n",
    "from torch.optim.lr_scheduler import ExponentialLR\n",
    "\n",
    "device = torch.device(\"cuda:2\" if torch.cuda.is_available() else \"cpu\")\n",
    "\n",
    "torch.cuda.empty_cache()\n",
    "gc.collect()\n",
    "\n",
    "# from dataset import TextDataset, clean"
   ]
  },
  {
   "cell_type": "code",
   "execution_count": 2,
   "id": "f75a417b-3bed-40c7-9087-bceaaf6ab233",
   "metadata": {
    "tags": []
   },
   "outputs": [],
   "source": [
    "df_og = pd.read_parquet(\"cspref/data/train-00000-of-00001.parquet\")\n",
    "\n",
    "# little bit of cleaning\n",
    "for col in ['sent_1', 'sent_2']:\n",
    "    df_og[col] = df_og[col].apply(lambda x:  x.split('\\n')[0] if '\\n' in x else x)\n",
    "\n",
    "df = df_og.sample(n=int(df_og.shape[0] * 0.6), random_state=42)\n",
    "\n",
    "chosen_class = {\n",
    "    \"sent_1\": 0,\n",
    "    \"sent_2\": 1,\n",
    "    \"tie\": 2\n",
    "}\n",
    "\n",
    "df[\"chosen\"] = df[\"chosen\"].apply(lambda x: chosen_class[x])\n",
    "\n",
    "class TextDataset(Dataset):\n",
    "    def __init__(self, df, tokenizer):\n",
    "        self.df = df\n",
    "        self.tokenizer = tokenizer\n",
    "        self.tokenized_data = []\n",
    "        self.label_dict = {\n",
    "            0: torch.tensor([1, 0, 0]),\n",
    "            1: torch.tensor([0, 1, 0]),\n",
    "            2: torch.tensor([0, 0, 1])\n",
    "        }\n",
    "\n",
    "        kwargs = {\n",
    "            # \"add_special_tokens\": True,\n",
    "            \"padding\": \"max_length\",\n",
    "            \"truncation\": True,\n",
    "            \"return_attention_mask\": True,\n",
    "            \"return_tensors\": \"pt\"\n",
    "        }\n",
    "\n",
    "        for idx in range(len(df)):\n",
    "            prepend = (\n",
    "                df.iloc[idx][\"original_l1\"]\n",
    "                + \"+\"\n",
    "                + df.iloc[idx][\"original_l2\"]\n",
    "                + \"->\"\n",
    "            )\n",
    "            text1 = prepend + df.iloc[idx][\"sent_1\"]\n",
    "            text2 = prepend + df.iloc[idx][\"sent_2\"]\n",
    "            text1_enc = self.tokenizer.encode_plus(text1, **kwargs)\n",
    "            text2_enc = self.tokenizer.encode_plus(text2, **kwargs)\n",
    "\n",
    "            chosen = df.iloc[idx][\"chosen\"]\n",
    "            label = self.label_dict[chosen]\n",
    "\n",
    "            self.tokenized_data.append((text1_enc, text2_enc, chosen, label))\n",
    "\n",
    "    def __len__(self):\n",
    "        return self.df.shape[0]\n",
    "\n",
    "    def __getitem__(self, item):\n",
    "        return self.tokenized_data[item]"
   ]
  },
  {
   "cell_type": "markdown",
   "id": "13d2ff0a-b2d8-40e9-8859-6c7ee69a4313",
   "metadata": {
    "tags": []
   },
   "source": [
    "### Train"
   ]
  },
  {
   "cell_type": "code",
   "execution_count": 3,
   "id": "a3db4a29-4914-4d8d-93b1-0d034d5b3bd9",
   "metadata": {},
   "outputs": [],
   "source": [
    "MODEL = 'gpt2'\n",
    "tokenizer = AutoTokenizer.from_pretrained(MODEL)\n",
    "tokenizer.pad_token = tokenizer.eos_token\n",
    "\n",
    "train_df, test_df = train_test_split(df, test_size=0.2, random_state=42)\n",
    "batch_size = 8\n",
    "train_dataset = TextDataset(train_df, tokenizer)\n",
    "train_dataloader = DataLoader(train_dataset, batch_size=batch_size, shuffle=True)"
   ]
  },
  {
   "cell_type": "code",
   "execution_count": 4,
   "id": "e77ead59-c29b-4bf9-be16-e7d8e1d5620a",
   "metadata": {
    "tags": []
   },
   "outputs": [],
   "source": [
    "class DecisionModel(nn.Module):\n",
    "    def __init__(self):\n",
    "        super(DecisionModel, self).__init__()\n",
    "        self.fc1 = nn.Linear(768, 64)\n",
    "        self.fc2 = nn.Linear(64, 1)\n",
    "        self.reward_to_class = nn.Linear(2, 3)\n",
    "\n",
    "    def forward(self, x1, x2):\n",
    "        r1 = self.fc2(F.gelu(self.fc1(x1)))\n",
    "        r2 = self.fc2(F.gelu(self.fc1(x2)))\n",
    "        \n",
    "        out = F.relu(torch.concat((r1, r2), dim=1))\n",
    "        out = self.reward_to_class(out)\n",
    "        out = F.log_softmax(out, dim=1)\n",
    "\n",
    "        return out\n",
    "\n",
    "\n",
    "class RewardModel(nn.Module):\n",
    "    def __init__(self, enc_model, decision, device):\n",
    "        super(RewardModel, self).__init__()\n",
    "        self.enc_model = enc_model\n",
    "        self.decision = decision\n",
    "        self.device = device\n",
    "\n",
    "    def forward(self, x):\n",
    "        # x: [x1, x2, label]\n",
    "        input_ids = x[0]['input_ids'].squeeze(dim=1).to(self.device)\n",
    "        attention_mask = x[0]['attention_mask'].squeeze(dim=1).to(self.device)\n",
    "        out1 = self.enc_model(input_ids=input_ids, attention_mask=attention_mask, output_hidden_states=True)\n",
    "        out1 = out1.hidden_states[-1][:, -1, :]\n",
    "\n",
    "        input_ids = x[1]['input_ids'].squeeze(dim=1).to(self.device)\n",
    "        attention_mask = x[1]['attention_mask'].squeeze(dim=1).to(self.device)\n",
    "        out2 = self.enc_model(input_ids=input_ids, attention_mask=attention_mask, output_hidden_states=True)\n",
    "        out2 = out2.hidden_states[-1][:, -1, :]\n",
    "\n",
    "        output = self.decision(out1, out2)\n",
    "        label = x[-1].to(self.device)\n",
    "\n",
    "        return output, label"
   ]
  },
  {
   "cell_type": "code",
   "execution_count": 5,
   "id": "44286052-bc54-4d11-89fa-f59fadc2fc5e",
   "metadata": {
    "tags": []
   },
   "outputs": [
    {
     "name": "stdout",
     "output_type": "stream",
     "text": [
      "Not anymore\n"
     ]
    }
   ],
   "source": [
    "MODEL = 'gpt2'\n",
    "tokenizer = AutoTokenizer.from_pretrained(MODEL)\n",
    "tokenizer.pad_token = tokenizer.eos_token\n",
    "\n",
    "enc_model = AutoModel.from_pretrained(\"gpt2\")\n",
    "\n",
    "dm = DecisionModel()\n",
    "rm = RewardModel(enc_model, dm, device)\n",
    "rm.to(device)\n",
    "\n",
    "print(\"Not anymore\")"
   ]
  },
  {
   "cell_type": "code",
   "execution_count": 6,
   "id": "af46b0ea-07bc-4dda-a3a6-223391ed5352",
   "metadata": {},
   "outputs": [],
   "source": [
    "optimizer = torch.optim.AdamW([\n",
    "    {\"params\": rm.decision.parameters(), \"lr\": 3e-5},\n",
    "    {\"params\": rm.enc_model.parameters(), \"lr\": 3e-5},\n",
    "], lr=3e-5)\n",
    "\n",
    "scheduler = ExponentialLR(optimizer, gamma=0.9)"
   ]
  },
  {
   "cell_type": "code",
   "execution_count": 7,
   "id": "c5ccf354-f35c-4f25-8f25-42b7c0149256",
   "metadata": {
    "jupyter": {
     "source_hidden": true
    },
    "tags": []
   },
   "outputs": [],
   "source": [
    "# checkpoint_path = \"ckpts_nl/checkpoint_gpt2_60_3.pth\"\n",
    "# checkpoint = torch.load(checkpoint_path)\n",
    "\n",
    "# rm.load_state_dict(checkpoint['model_state_dict'])\n",
    "# optimizer.load_state_dict(checkpoint['optimizer_state_dict'])\n",
    "# scheduler.load_state_dict(checkpoint['scheduler_state_dict'])\n",
    "# print(scheduler.get_lr())"
   ]
  },
  {
   "cell_type": "code",
   "execution_count": null,
   "id": "c095286a-1c25-4504-8340-4bf78028c782",
   "metadata": {
    "tags": []
   },
   "outputs": [
    {
     "name": "stdout",
     "output_type": "stream",
     "text": [
      "0.8508423566818237\n",
      "0.9418230652809143\n",
      "0.9931835532188416\n",
      "0.785681962966919\n",
      "0.9073892831802368\n",
      "0.9551669955253601\n",
      "0.7368096113204956\n",
      "1.0029284954071045\n",
      "0.6765177249908447\n"
     ]
    }
   ],
   "source": [
    "completed_num_epochs = 6\n",
    "\n",
    "checkpoint_path = f\"ckpts_nl/checkpoint_gpt2_60_{completed_num_epochs - 1}.pth\"\n",
    "checkpoint = torch.load(checkpoint_path)\n",
    "\n",
    "rm.load_state_dict(checkpoint['model_state_dict'])\n",
    "optimizer.load_state_dict(checkpoint['optimizer_state_dict'])\n",
    "scheduler.load_state_dict(checkpoint['scheduler_state_dict'])\n",
    "\n",
    "\n",
    "epochs = 8 - completed_num_epochs\n",
    "\n",
    "\n",
    "accumulation_steps = 3\n",
    "\n",
    "for epoch in range(epochs):\n",
    "    rm.train()\n",
    "    total_loss = 0\n",
    "\n",
    "    for batch_id, batch in enumerate(train_dataloader):\n",
    "        out, label = rm(batch)\n",
    "        loss = - (out * label).sum() / label.shape[0]\n",
    "        loss.backward()\n",
    "\n",
    "        if (batch_id + 1) % accumulation_steps == 0:\n",
    "            optimizer.step()\n",
    "            optimizer.zero_grad()\n",
    "\n",
    "        total_loss += loss.item()\n",
    "\n",
    "        if batch_id % 100 == 0:\n",
    "            print(loss.item())\n",
    "\n",
    "    # If the number of batches isn't divisible by accumulation_steps,\n",
    "    # do one final step after the loop ends\n",
    "    if (batch_id + 1) % accumulation_steps != 0:\n",
    "        optimizer.step()\n",
    "        optimizer.zero_grad()\n",
    "\n",
    "    scheduler.step()\n",
    "\n",
    "    avg_loss = total_loss / len(train_dataloader)\n",
    "\n",
    "    print(f\"Epoch {epoch + completed_num_epochs}\")\n",
    "    print(f\"Average Training Loss: {avg_loss:.4f}\")\n",
    "    print(\"\\n\")\n",
    "\n",
    "    checkpoint = {\n",
    "        'model_state_dict': rm.state_dict(),\n",
    "        'optimizer_state_dict': optimizer.state_dict(),\n",
    "        'scheduler_state_dict': scheduler.state_dict(),\n",
    "        'epoch': epoch + completed_num_epochs,\n",
    "        'avg_loss': avg_loss\n",
    "    }\n",
    "\n",
    "    torch.save(checkpoint, f\"ckpts_nl/checkpoint_gpt2_60_{epoch + completed_num_epochs}.pth\")"
   ]
  },
  {
   "cell_type": "code",
   "execution_count": 1,
   "id": "6ee05783-885f-45d8-af24-a67884f500f4",
   "metadata": {},
   "outputs": [],
   "source": [
    "# torch.save(rm.state_dict(), \"gpt2_rm_dict_2.pth\")"
   ]
  },
  {
   "cell_type": "markdown",
   "id": "9c3f7057-443f-45e4-862e-324aaea28d13",
   "metadata": {
    "jp-MarkdownHeadingCollapsed": true,
    "tags": []
   },
   "source": [
    "### Test"
   ]
  },
  {
   "cell_type": "code",
   "execution_count": 11,
   "id": "785445c3-6619-4921-ae7e-5f4ea1a04248",
   "metadata": {},
   "outputs": [
    {
     "data": {
      "text/plain": [
       "<All keys matched successfully>"
      ]
     },
     "execution_count": 11,
     "metadata": {},
     "output_type": "execute_result"
    }
   ],
   "source": [
    "# \"gpt2_rm_3_dict.pth\": 30%, epoch: 3\n",
    "# \"gpt2_rm_dict.pth\": 20%, epoch: 5\n",
    "\n",
    "rm.load_state_dict(torch.load(\"models_w_tie/gpt2_rm_w_tie_40_3.pth\"))"
   ]
  },
  {
   "cell_type": "code",
   "execution_count": 8,
   "id": "aa5e8707-716e-473d-81d7-fb51e523984a",
   "metadata": {
    "tags": []
   },
   "outputs": [
    {
     "data": {
      "text/plain": [
       "(5009, 7)"
      ]
     },
     "execution_count": 8,
     "metadata": {},
     "output_type": "execute_result"
    }
   ],
   "source": [
    "MODEL = 'gpt2'\n",
    "tokenizer = AutoTokenizer.from_pretrained(MODEL)\n",
    "tokenizer.pad_token = tokenizer.eos_token\n",
    "\n",
    "\n",
    "test_dataset = TextDataset(test_df, tokenizer)\n",
    "test_dataloader = DataLoader(test_dataset, batch_size=4, shuffle=True)\n",
    "\n",
    "test_dataloader.dataset.df.shape"
   ]
  },
  {
   "cell_type": "code",
   "execution_count": 12,
   "id": "89e69e6b-7113-4315-b3ff-825a9207f7cd",
   "metadata": {
    "tags": []
   },
   "outputs": [],
   "source": [
    "rm.load_state_dict(torch.load(\"models_w_tie/gpt2_rm_w_tie_40_3.pth\"))\n",
    "\n",
    "rm.eval()\n",
    "\n",
    "all_preds = []\n",
    "true_labels = []  # with randomized ties\n",
    "chosen = []\n",
    "pred_model_probs = []\n",
    "\n",
    "for batch_id, batch in enumerate(test_dataloader):\n",
    "    chosen += batch[2].tolist()\n",
    "    out, label = rm(batch)\n",
    "    probs = F.softmax(out, dim=1)\n",
    "    pred_model_probs += probs.to(\"cpu\").tolist()\n",
    "    all_preds += probs.argmax(dim=1)\n",
    "    true_labels += label.argmax(dim=1).to(\"cpu\").tolist()"
   ]
  },
  {
   "cell_type": "code",
   "execution_count": 13,
   "id": "7dfe86b9-218b-4241-9fca-4939336f7bb4",
   "metadata": {
    "tags": []
   },
   "outputs": [
    {
     "data": {
      "text/plain": [
       "tensor(0.5983)"
      ]
     },
     "execution_count": 13,
     "metadata": {},
     "output_type": "execute_result"
    }
   ],
   "source": [
    "(torch.tensor(all_preds) == torch.tensor(true_labels)).sum() / len(all_preds)"
   ]
  },
  {
   "cell_type": "code",
   "execution_count": 14,
   "id": "d8de8339-bada-41b8-bf2f-74b166964983",
   "metadata": {
    "tags": []
   },
   "outputs": [
    {
     "data": {
      "text/plain": [
       "tensor(0.5670)"
      ]
     },
     "execution_count": 14,
     "metadata": {},
     "output_type": "execute_result"
    }
   ],
   "source": [
    "rm.load_state_dict(torch.load(\"models_w_tie/gpt2_rm_w_tie_40_2.pth\"))\n",
    "\n",
    "rm.eval()\n",
    "\n",
    "all_preds = []\n",
    "true_labels = []  # with randomized ties\n",
    "chosen = []\n",
    "pred_model_probs = []\n",
    "\n",
    "for batch_id, batch in enumerate(test_dataloader):\n",
    "    chosen += batch[2].tolist()\n",
    "    out, label = rm(batch)\n",
    "    probs = F.softmax(out, dim=1)\n",
    "    pred_model_probs += probs.to(\"cpu\").tolist()\n",
    "    all_preds += probs.argmax(dim=1)\n",
    "    true_labels += label.argmax(dim=1).to(\"cpu\").tolist()\n",
    "    \n",
    "(torch.tensor(all_preds) == torch.tensor(true_labels)).sum() / len(all_preds)"
   ]
  },
  {
   "cell_type": "code",
   "execution_count": 47,
   "id": "99c3dc72-91a7-4da7-a85b-81e21cc5b499",
   "metadata": {
    "tags": []
   },
   "outputs": [
    {
     "data": {
      "text/plain": [
       "tensor(0.7519)"
      ]
     },
     "execution_count": 47,
     "metadata": {},
     "output_type": "execute_result"
    }
   ],
   "source": [
    "(torch.tensor(all_preds) == torch.tensor(true_labels)).sum() / len(all_preds)"
   ]
  },
  {
   "cell_type": "code",
   "execution_count": 1,
   "id": "3528baba-6619-47e8-b4aa-543e5565ae78",
   "metadata": {
    "collapsed": true,
    "jupyter": {
     "outputs_hidden": true
    },
    "tags": []
   },
   "outputs": [
    {
     "ename": "NameError",
     "evalue": "name 'all_preds' is not defined",
     "output_type": "error",
     "traceback": [
      "\u001b[0;31m---------------------------------------------------------------------------\u001b[0m",
      "\u001b[0;31mNameError\u001b[0m                                 Traceback (most recent call last)",
      "Cell \u001b[0;32mIn[1], line 2\u001b[0m\n\u001b[1;32m      1\u001b[0m \u001b[38;5;66;03m# acuracy of non-tie\u001b[39;00m\n\u001b[0;32m----> 2\u001b[0m non_tie_preds \u001b[38;5;241m=\u001b[39m [(i, j, k) \u001b[38;5;28;01mfor\u001b[39;00m (i, j, k) \u001b[38;5;129;01min\u001b[39;00m \u001b[38;5;28mzip\u001b[39m(\u001b[43mall_preds\u001b[49m, true_labels, chosen) \u001b[38;5;28;01mif\u001b[39;00m k \u001b[38;5;241m!=\u001b[39m \u001b[38;5;241m2\u001b[39m]\n\u001b[1;32m      3\u001b[0m \u001b[38;5;28mlen\u001b[39m([\u001b[38;5;241m1\u001b[39m \u001b[38;5;28;01mfor\u001b[39;00m (i, j, _) \u001b[38;5;129;01min\u001b[39;00m non_tie_preds \u001b[38;5;28;01mif\u001b[39;00m i \u001b[38;5;241m==\u001b[39m j]) \u001b[38;5;241m/\u001b[39m \u001b[38;5;28mlen\u001b[39m(non_tie_preds)\n",
      "\u001b[0;31mNameError\u001b[0m: name 'all_preds' is not defined"
     ]
    }
   ],
   "source": [
    "# acuracy of non-tie\n",
    "non_tie_preds = [(i, j, k) for (i, j, k) in zip(all_preds, true_labels, chosen) if k != 2]\n",
    "len([1 for (i, j, _) in non_tie_preds if i == j]) / len(non_tie_preds)"
   ]
  },
  {
   "cell_type": "code",
   "execution_count": 72,
   "id": "30aa3c64-1998-4e9c-9b76-840b34a650f6",
   "metadata": {
    "tags": []
   },
   "outputs": [
    {
     "data": {
      "image/png": "[encoded data removed]",
      "text/plain": [
       "<Figure size 640x480 with 2 Axes>"
      ]
     },
     "metadata": {},
     "output_type": "display_data"
    }
   ],
   "source": [
    "tie_1 = [p[0] for p, c in zip(pred_model_probs, chosen) if c == 2]\n",
    "tie_2 = [p[1] for p, c in zip(pred_model_probs, chosen) if c == 2]\n",
    "\n",
    "fig, axs = plt.subplots(1, 2)\n",
    "\n",
    "axs[0].hist(tie_1, bins=50)\n",
    "axs[0].set_title(\"tie_1\")\n",
    "\n",
    "axs[1].hist(tie_2, bins=50)\n",
    "axs[1].set_title(\"tie_2\")\n",
    "\n",
    "# plt.tight_layout()\n",
    "plt.show()"
   ]
  },
  {
   "cell_type": "code",
   "execution_count": 73,
   "id": "b044fc03-4fcb-4846-a12a-b6e1cc4e4684",
   "metadata": {
    "tags": []
   },
   "outputs": [
    {
     "data": {
      "image/png": "[encoded data removed]",
      "text/plain": [
       "<Figure size 640x480 with 2 Axes>"
      ]
     },
     "metadata": {},
     "output_type": "display_data"
    }
   ],
   "source": [
    "class_1 = [p[0] for p, c in zip(pred_model_probs, chosen) if c == 0]\n",
    "class_2 = [p[1] for p, c in zip(pred_model_probs, chosen) if c == 1]\n",
    "\n",
    "fig, axs = plt.subplots(1, 2)\n",
    "\n",
    "axs[0].hist(class_1, bins=50)\n",
    "axs[0].set_title(\"class_1\")\n",
    "\n",
    "axs[1].hist(class_2, bins=50)\n",
    "axs[1].set_title(\"class_2\")\n",
    "\n",
    "# plt.tight_layout()\n",
    "plt.show()"
   ]
  },
  {
   "cell_type": "code",
   "execution_count": null,
   "id": "142056d2-2395-41b2-b12a-58299a9bc464",
   "metadata": {},
   "outputs": [],
   "source": []
  },
  {
   "cell_type": "code",
   "execution_count": null,
   "id": "fff375e4-42e6-4b77-8ff5-7065ebef2636",
   "metadata": {},
   "outputs": [],
   "source": []
  },
  {
   "cell_type": "code",
   "execution_count": null,
   "id": "4db3dabd-dc7f-4636-95bd-b49ada6dcedd",
   "metadata": {},
   "outputs": [],
   "source": []
  },
  {
   "cell_type": "code",
   "execution_count": 94,
   "id": "b83fa994-dc01-406c-a019-7a304a3e8158",
   "metadata": {
    "tags": []
   },
   "outputs": [
    {
     "data": {
      "text/plain": [
       "(20, 9)"
      ]
     },
     "execution_count": 94,
     "metadata": {},
     "output_type": "execute_result"
    }
   ],
   "source": [
    "pd.merge(\n",
    "    train_df,\n",
    "    test_df,\n",
    "    on=[\"original_l1\", \"original_l2\", \"sent_1\", \"sent_2\", \"chosen\"]\n",
    ").shape"
   ]
  },
  {
   "cell_type": "code",
   "execution_count": 28,
   "id": "39988ecc-cbc4-4635-a6c9-33af6a9224d1",
   "metadata": {},
   "outputs": [
    {
     "data": {
      "text/plain": [
       "[1, 0, 1, 0]"
      ]
     },
     "execution_count": 28,
     "metadata": {},
     "output_type": "execute_result"
    }
   ],
   "source": [
    "F.softmax(out, dim=1).argmax(dim=1).to(\"cpu\").tolist()"
   ]
  },
  {
   "cell_type": "code",
   "execution_count": 96,
   "id": "7b393478-8676-4b1f-9cfb-b8c84b50bb55",
   "metadata": {
    "tags": []
   },
   "outputs": [
    {
     "data": {
      "text/plain": [
       "tensor([[-0.7306, -0.6571]], device='cuda:1', grad_fn=<LogSoftmaxBackward0>)"
      ]
     },
     "execution_count": 96,
     "metadata": {},
     "output_type": "execute_result"
    }
   ],
   "source": [
    "out"
   ]
  },
  {
   "cell_type": "code",
   "execution_count": 23,
   "id": "b259d149-0b20-4d4e-8bf2-79c44efb3e16",
   "metadata": {
    "tags": []
   },
   "outputs": [
    {
     "data": {
      "text/plain": [
       "tensor([[1, 0],\n",
       "        [0, 1],\n",
       "        [1, 0],\n",
       "        [0, 1]], device='cuda:1')"
      ]
     },
     "execution_count": 23,
     "metadata": {},
     "output_type": "execute_result"
    }
   ],
   "source": [
    "label"
   ]
  },
  {
   "cell_type": "code",
   "execution_count": null,
   "id": "128c9092-a705-436a-a19a-18cfd6c02b96",
   "metadata": {},
   "outputs": [],
   "source": []
  },
  {
   "cell_type": "code",
   "execution_count": null,
   "id": "ff435b2c-11b4-4de7-8d3c-e8d5d8ff7e08",
   "metadata": {},
   "outputs": [],
   "source": []
  },
  {
   "cell_type": "code",
   "execution_count": null,
   "id": "35123f25-7114-428c-b210-3b3dc41b3960",
   "metadata": {},
   "outputs": [],
   "source": []
  },
  {
   "cell_type": "code",
   "execution_count": null,
   "id": "48b47637-407f-4db6-9b4a-abd20d1a2599",
   "metadata": {},
   "outputs": [],
   "source": []
  },
  {
   "cell_type": "code",
   "execution_count": null,
   "id": "ae3bcc8f-f27f-4de1-af26-c0917ee4f952",
   "metadata": {},
   "outputs": [],
   "source": []
  },
  {
   "cell_type": "code",
   "execution_count": null,
   "id": "7da154cc-0098-4889-b0f6-dcf0e7b36dcf",
   "metadata": {},
   "outputs": [],
   "source": []
  },
  {
   "cell_type": "code",
   "execution_count": null,
   "id": "e1d89cb8-8757-4ae2-bd75-b8ba27ef966c",
   "metadata": {},
   "outputs": [],
   "source": []
  },
  {
   "cell_type": "code",
   "execution_count": null,
   "id": "18b2e31f-34ea-4020-8b95-197e282bfbbe",
   "metadata": {},
   "outputs": [],
   "source": []
  },
  {
   "cell_type": "code",
   "execution_count": null,
   "id": "864863bf-88f7-440d-9554-ee7bb48279f0",
   "metadata": {},
   "outputs": [],
   "source": []
  },
  {
   "cell_type": "code",
   "execution_count": null,
   "id": "98d1d252-1662-4cac-9a1d-c12c8959afd0",
   "metadata": {},
   "outputs": [],
   "source": []
  },
  {
   "cell_type": "code",
   "execution_count": null,
   "id": "43d6b0df-04b0-4ecb-a0e8-afe68c376146",
   "metadata": {},
   "outputs": [],
   "source": []
  },
  {
   "cell_type": "code",
   "execution_count": 15,
   "id": "ecee4935-ffde-4dae-9167-b2ce9d5bdcfd",
   "metadata": {
    "collapsed": true,
    "jupyter": {
     "outputs_hidden": true
    },
    "tags": []
   },
   "outputs": [
    {
     "ename": "RuntimeError",
     "evalue": "stack expects each tensor to be equal size, but got [1, 140] at entry 0 and [1, 165] at entry 1",
     "output_type": "error",
     "traceback": [
      "\u001b[0;31m---------------------------------------------------------------------------\u001b[0m",
      "\u001b[0;31mRuntimeError\u001b[0m                              Traceback (most recent call last)",
      "Cell \u001b[0;32mIn[15], line 1\u001b[0m\n\u001b[0;32m----> 1\u001b[0m \u001b[38;5;28;01mfor\u001b[39;00m b \u001b[38;5;129;01min\u001b[39;00m train_dataloader:\n\u001b[1;32m      2\u001b[0m     \u001b[38;5;28;01mbreak\u001b[39;00m\n\u001b[1;32m      3\u001b[0m tout \u001b[38;5;241m=\u001b[39m rm(b)\n",
      "File \u001b[0;32m/opt/conda/lib/python3.9/site-packages/torch/utils/data/dataloader.py:633\u001b[0m, in \u001b[0;36m_BaseDataLoaderIter.__next__\u001b[0;34m(self)\u001b[0m\n\u001b[1;32m    630\u001b[0m \u001b[38;5;28;01mif\u001b[39;00m \u001b[38;5;28mself\u001b[39m\u001b[38;5;241m.\u001b[39m_sampler_iter \u001b[38;5;129;01mis\u001b[39;00m \u001b[38;5;28;01mNone\u001b[39;00m:\n\u001b[1;32m    631\u001b[0m     \u001b[38;5;66;03m# TODO(https://github.com/pytorch/pytorch/issues/76750)\u001b[39;00m\n\u001b[1;32m    632\u001b[0m     \u001b[38;5;28mself\u001b[39m\u001b[38;5;241m.\u001b[39m_reset()  \u001b[38;5;66;03m# type: ignore[call-arg]\u001b[39;00m\n\u001b[0;32m--> 633\u001b[0m data \u001b[38;5;241m=\u001b[39m \u001b[38;5;28;43mself\u001b[39;49m\u001b[38;5;241;43m.\u001b[39;49m\u001b[43m_next_data\u001b[49m\u001b[43m(\u001b[49m\u001b[43m)\u001b[49m\n\u001b[1;32m    634\u001b[0m \u001b[38;5;28mself\u001b[39m\u001b[38;5;241m.\u001b[39m_num_yielded \u001b[38;5;241m+\u001b[39m\u001b[38;5;241m=\u001b[39m \u001b[38;5;241m1\u001b[39m\n\u001b[1;32m    635\u001b[0m \u001b[38;5;28;01mif\u001b[39;00m \u001b[38;5;28mself\u001b[39m\u001b[38;5;241m.\u001b[39m_dataset_kind \u001b[38;5;241m==\u001b[39m _DatasetKind\u001b[38;5;241m.\u001b[39mIterable \u001b[38;5;129;01mand\u001b[39;00m \\\n\u001b[1;32m    636\u001b[0m         \u001b[38;5;28mself\u001b[39m\u001b[38;5;241m.\u001b[39m_IterableDataset_len_called \u001b[38;5;129;01mis\u001b[39;00m \u001b[38;5;129;01mnot\u001b[39;00m \u001b[38;5;28;01mNone\u001b[39;00m \u001b[38;5;129;01mand\u001b[39;00m \\\n\u001b[1;32m    637\u001b[0m         \u001b[38;5;28mself\u001b[39m\u001b[38;5;241m.\u001b[39m_num_yielded \u001b[38;5;241m>\u001b[39m \u001b[38;5;28mself\u001b[39m\u001b[38;5;241m.\u001b[39m_IterableDataset_len_called:\n",
      "File \u001b[0;32m/opt/conda/lib/python3.9/site-packages/torch/utils/data/dataloader.py:677\u001b[0m, in \u001b[0;36m_SingleProcessDataLoaderIter._next_data\u001b[0;34m(self)\u001b[0m\n\u001b[1;32m    675\u001b[0m \u001b[38;5;28;01mdef\u001b[39;00m \u001b[38;5;21m_next_data\u001b[39m(\u001b[38;5;28mself\u001b[39m):\n\u001b[1;32m    676\u001b[0m     index \u001b[38;5;241m=\u001b[39m \u001b[38;5;28mself\u001b[39m\u001b[38;5;241m.\u001b[39m_next_index()  \u001b[38;5;66;03m# may raise StopIteration\u001b[39;00m\n\u001b[0;32m--> 677\u001b[0m     data \u001b[38;5;241m=\u001b[39m \u001b[38;5;28;43mself\u001b[39;49m\u001b[38;5;241;43m.\u001b[39;49m\u001b[43m_dataset_fetcher\u001b[49m\u001b[38;5;241;43m.\u001b[39;49m\u001b[43mfetch\u001b[49m\u001b[43m(\u001b[49m\u001b[43mindex\u001b[49m\u001b[43m)\u001b[49m  \u001b[38;5;66;03m# may raise StopIteration\u001b[39;00m\n\u001b[1;32m    678\u001b[0m     \u001b[38;5;28;01mif\u001b[39;00m \u001b[38;5;28mself\u001b[39m\u001b[38;5;241m.\u001b[39m_pin_memory:\n\u001b[1;32m    679\u001b[0m         data \u001b[38;5;241m=\u001b[39m _utils\u001b[38;5;241m.\u001b[39mpin_memory\u001b[38;5;241m.\u001b[39mpin_memory(data, \u001b[38;5;28mself\u001b[39m\u001b[38;5;241m.\u001b[39m_pin_memory_device)\n",
      "File \u001b[0;32m/opt/conda/lib/python3.9/site-packages/torch/utils/data/_utils/fetch.py:54\u001b[0m, in \u001b[0;36m_MapDatasetFetcher.fetch\u001b[0;34m(self, possibly_batched_index)\u001b[0m\n\u001b[1;32m     52\u001b[0m \u001b[38;5;28;01melse\u001b[39;00m:\n\u001b[1;32m     53\u001b[0m     data \u001b[38;5;241m=\u001b[39m \u001b[38;5;28mself\u001b[39m\u001b[38;5;241m.\u001b[39mdataset[possibly_batched_index]\n\u001b[0;32m---> 54\u001b[0m \u001b[38;5;28;01mreturn\u001b[39;00m \u001b[38;5;28;43mself\u001b[39;49m\u001b[38;5;241;43m.\u001b[39;49m\u001b[43mcollate_fn\u001b[49m\u001b[43m(\u001b[49m\u001b[43mdata\u001b[49m\u001b[43m)\u001b[49m\n",
      "File \u001b[0;32m/opt/conda/lib/python3.9/site-packages/torch/utils/data/_utils/collate.py:265\u001b[0m, in \u001b[0;36mdefault_collate\u001b[0;34m(batch)\u001b[0m\n\u001b[1;32m    204\u001b[0m \u001b[38;5;28;01mdef\u001b[39;00m \u001b[38;5;21mdefault_collate\u001b[39m(batch):\n\u001b[1;32m    205\u001b[0m \u001b[38;5;250m    \u001b[39m\u001b[38;5;124mr\u001b[39m\u001b[38;5;124;03m\"\"\"\u001b[39;00m\n\u001b[1;32m    206\u001b[0m \u001b[38;5;124;03m        Function that takes in a batch of data and puts the elements within the batch\u001b[39;00m\n\u001b[1;32m    207\u001b[0m \u001b[38;5;124;03m        into a tensor with an additional outer dimension - batch size. The exact output type can be\u001b[39;00m\n\u001b[0;32m   (...)\u001b[0m\n\u001b[1;32m    263\u001b[0m \u001b[38;5;124;03m            >>> default_collate(batch)  # Handle `CustomType` automatically\u001b[39;00m\n\u001b[1;32m    264\u001b[0m \u001b[38;5;124;03m    \"\"\"\u001b[39;00m\n\u001b[0;32m--> 265\u001b[0m     \u001b[38;5;28;01mreturn\u001b[39;00m \u001b[43mcollate\u001b[49m\u001b[43m(\u001b[49m\u001b[43mbatch\u001b[49m\u001b[43m,\u001b[49m\u001b[43m \u001b[49m\u001b[43mcollate_fn_map\u001b[49m\u001b[38;5;241;43m=\u001b[39;49m\u001b[43mdefault_collate_fn_map\u001b[49m\u001b[43m)\u001b[49m\n",
      "File \u001b[0;32m/opt/conda/lib/python3.9/site-packages/torch/utils/data/_utils/collate.py:142\u001b[0m, in \u001b[0;36mcollate\u001b[0;34m(batch, collate_fn_map)\u001b[0m\n\u001b[1;32m    139\u001b[0m transposed \u001b[38;5;241m=\u001b[39m \u001b[38;5;28mlist\u001b[39m(\u001b[38;5;28mzip\u001b[39m(\u001b[38;5;241m*\u001b[39mbatch))  \u001b[38;5;66;03m# It may be accessed twice, so we use a list.\u001b[39;00m\n\u001b[1;32m    141\u001b[0m \u001b[38;5;28;01mif\u001b[39;00m \u001b[38;5;28misinstance\u001b[39m(elem, \u001b[38;5;28mtuple\u001b[39m):\n\u001b[0;32m--> 142\u001b[0m     \u001b[38;5;28;01mreturn\u001b[39;00m [collate(samples, collate_fn_map\u001b[38;5;241m=\u001b[39mcollate_fn_map) \u001b[38;5;28;01mfor\u001b[39;00m samples \u001b[38;5;129;01min\u001b[39;00m transposed]  \u001b[38;5;66;03m# Backwards compatibility.\u001b[39;00m\n\u001b[1;32m    143\u001b[0m \u001b[38;5;28;01melse\u001b[39;00m:\n\u001b[1;32m    144\u001b[0m     \u001b[38;5;28;01mtry\u001b[39;00m:\n",
      "File \u001b[0;32m/opt/conda/lib/python3.9/site-packages/torch/utils/data/_utils/collate.py:142\u001b[0m, in \u001b[0;36m<listcomp>\u001b[0;34m(.0)\u001b[0m\n\u001b[1;32m    139\u001b[0m transposed \u001b[38;5;241m=\u001b[39m \u001b[38;5;28mlist\u001b[39m(\u001b[38;5;28mzip\u001b[39m(\u001b[38;5;241m*\u001b[39mbatch))  \u001b[38;5;66;03m# It may be accessed twice, so we use a list.\u001b[39;00m\n\u001b[1;32m    141\u001b[0m \u001b[38;5;28;01mif\u001b[39;00m \u001b[38;5;28misinstance\u001b[39m(elem, \u001b[38;5;28mtuple\u001b[39m):\n\u001b[0;32m--> 142\u001b[0m     \u001b[38;5;28;01mreturn\u001b[39;00m [\u001b[43mcollate\u001b[49m\u001b[43m(\u001b[49m\u001b[43msamples\u001b[49m\u001b[43m,\u001b[49m\u001b[43m \u001b[49m\u001b[43mcollate_fn_map\u001b[49m\u001b[38;5;241;43m=\u001b[39;49m\u001b[43mcollate_fn_map\u001b[49m\u001b[43m)\u001b[49m \u001b[38;5;28;01mfor\u001b[39;00m samples \u001b[38;5;129;01min\u001b[39;00m transposed]  \u001b[38;5;66;03m# Backwards compatibility.\u001b[39;00m\n\u001b[1;32m    143\u001b[0m \u001b[38;5;28;01melse\u001b[39;00m:\n\u001b[1;32m    144\u001b[0m     \u001b[38;5;28;01mtry\u001b[39;00m:\n",
      "File \u001b[0;32m/opt/conda/lib/python3.9/site-packages/torch/utils/data/_utils/collate.py:127\u001b[0m, in \u001b[0;36mcollate\u001b[0;34m(batch, collate_fn_map)\u001b[0m\n\u001b[1;32m    125\u001b[0m \u001b[38;5;28;01mif\u001b[39;00m \u001b[38;5;28misinstance\u001b[39m(elem, collections\u001b[38;5;241m.\u001b[39mabc\u001b[38;5;241m.\u001b[39mMapping):\n\u001b[1;32m    126\u001b[0m     \u001b[38;5;28;01mtry\u001b[39;00m:\n\u001b[0;32m--> 127\u001b[0m         \u001b[38;5;28;01mreturn\u001b[39;00m elem_type({key: collate([d[key] \u001b[38;5;28;01mfor\u001b[39;00m d \u001b[38;5;129;01min\u001b[39;00m batch], collate_fn_map\u001b[38;5;241m=\u001b[39mcollate_fn_map) \u001b[38;5;28;01mfor\u001b[39;00m key \u001b[38;5;129;01min\u001b[39;00m elem})\n\u001b[1;32m    128\u001b[0m     \u001b[38;5;28;01mexcept\u001b[39;00m \u001b[38;5;167;01mTypeError\u001b[39;00m:\n\u001b[1;32m    129\u001b[0m         \u001b[38;5;66;03m# The mapping type may not support `__init__(iterable)`.\u001b[39;00m\n\u001b[1;32m    130\u001b[0m         \u001b[38;5;28;01mreturn\u001b[39;00m {key: collate([d[key] \u001b[38;5;28;01mfor\u001b[39;00m d \u001b[38;5;129;01min\u001b[39;00m batch], collate_fn_map\u001b[38;5;241m=\u001b[39mcollate_fn_map) \u001b[38;5;28;01mfor\u001b[39;00m key \u001b[38;5;129;01min\u001b[39;00m elem}\n",
      "File \u001b[0;32m/opt/conda/lib/python3.9/site-packages/torch/utils/data/_utils/collate.py:127\u001b[0m, in \u001b[0;36m<dictcomp>\u001b[0;34m(.0)\u001b[0m\n\u001b[1;32m    125\u001b[0m \u001b[38;5;28;01mif\u001b[39;00m \u001b[38;5;28misinstance\u001b[39m(elem, collections\u001b[38;5;241m.\u001b[39mabc\u001b[38;5;241m.\u001b[39mMapping):\n\u001b[1;32m    126\u001b[0m     \u001b[38;5;28;01mtry\u001b[39;00m:\n\u001b[0;32m--> 127\u001b[0m         \u001b[38;5;28;01mreturn\u001b[39;00m elem_type({key: \u001b[43mcollate\u001b[49m\u001b[43m(\u001b[49m\u001b[43m[\u001b[49m\u001b[43md\u001b[49m\u001b[43m[\u001b[49m\u001b[43mkey\u001b[49m\u001b[43m]\u001b[49m\u001b[43m \u001b[49m\u001b[38;5;28;43;01mfor\u001b[39;49;00m\u001b[43m \u001b[49m\u001b[43md\u001b[49m\u001b[43m \u001b[49m\u001b[38;5;129;43;01min\u001b[39;49;00m\u001b[43m \u001b[49m\u001b[43mbatch\u001b[49m\u001b[43m]\u001b[49m\u001b[43m,\u001b[49m\u001b[43m \u001b[49m\u001b[43mcollate_fn_map\u001b[49m\u001b[38;5;241;43m=\u001b[39;49m\u001b[43mcollate_fn_map\u001b[49m\u001b[43m)\u001b[49m \u001b[38;5;28;01mfor\u001b[39;00m key \u001b[38;5;129;01min\u001b[39;00m elem})\n\u001b[1;32m    128\u001b[0m     \u001b[38;5;28;01mexcept\u001b[39;00m \u001b[38;5;167;01mTypeError\u001b[39;00m:\n\u001b[1;32m    129\u001b[0m         \u001b[38;5;66;03m# The mapping type may not support `__init__(iterable)`.\u001b[39;00m\n\u001b[1;32m    130\u001b[0m         \u001b[38;5;28;01mreturn\u001b[39;00m {key: collate([d[key] \u001b[38;5;28;01mfor\u001b[39;00m d \u001b[38;5;129;01min\u001b[39;00m batch], collate_fn_map\u001b[38;5;241m=\u001b[39mcollate_fn_map) \u001b[38;5;28;01mfor\u001b[39;00m key \u001b[38;5;129;01min\u001b[39;00m elem}\n",
      "File \u001b[0;32m/opt/conda/lib/python3.9/site-packages/torch/utils/data/_utils/collate.py:119\u001b[0m, in \u001b[0;36mcollate\u001b[0;34m(batch, collate_fn_map)\u001b[0m\n\u001b[1;32m    117\u001b[0m \u001b[38;5;28;01mif\u001b[39;00m collate_fn_map \u001b[38;5;129;01mis\u001b[39;00m \u001b[38;5;129;01mnot\u001b[39;00m \u001b[38;5;28;01mNone\u001b[39;00m:\n\u001b[1;32m    118\u001b[0m     \u001b[38;5;28;01mif\u001b[39;00m elem_type \u001b[38;5;129;01min\u001b[39;00m collate_fn_map:\n\u001b[0;32m--> 119\u001b[0m         \u001b[38;5;28;01mreturn\u001b[39;00m \u001b[43mcollate_fn_map\u001b[49m\u001b[43m[\u001b[49m\u001b[43melem_type\u001b[49m\u001b[43m]\u001b[49m\u001b[43m(\u001b[49m\u001b[43mbatch\u001b[49m\u001b[43m,\u001b[49m\u001b[43m \u001b[49m\u001b[43mcollate_fn_map\u001b[49m\u001b[38;5;241;43m=\u001b[39;49m\u001b[43mcollate_fn_map\u001b[49m\u001b[43m)\u001b[49m\n\u001b[1;32m    121\u001b[0m     \u001b[38;5;28;01mfor\u001b[39;00m collate_type \u001b[38;5;129;01min\u001b[39;00m collate_fn_map:\n\u001b[1;32m    122\u001b[0m         \u001b[38;5;28;01mif\u001b[39;00m \u001b[38;5;28misinstance\u001b[39m(elem, collate_type):\n",
      "File \u001b[0;32m/opt/conda/lib/python3.9/site-packages/torch/utils/data/_utils/collate.py:162\u001b[0m, in \u001b[0;36mcollate_tensor_fn\u001b[0;34m(batch, collate_fn_map)\u001b[0m\n\u001b[1;32m    160\u001b[0m     storage \u001b[38;5;241m=\u001b[39m elem\u001b[38;5;241m.\u001b[39m_typed_storage()\u001b[38;5;241m.\u001b[39m_new_shared(numel, device\u001b[38;5;241m=\u001b[39melem\u001b[38;5;241m.\u001b[39mdevice)\n\u001b[1;32m    161\u001b[0m     out \u001b[38;5;241m=\u001b[39m elem\u001b[38;5;241m.\u001b[39mnew(storage)\u001b[38;5;241m.\u001b[39mresize_(\u001b[38;5;28mlen\u001b[39m(batch), \u001b[38;5;241m*\u001b[39m\u001b[38;5;28mlist\u001b[39m(elem\u001b[38;5;241m.\u001b[39msize()))\n\u001b[0;32m--> 162\u001b[0m \u001b[38;5;28;01mreturn\u001b[39;00m \u001b[43mtorch\u001b[49m\u001b[38;5;241;43m.\u001b[39;49m\u001b[43mstack\u001b[49m\u001b[43m(\u001b[49m\u001b[43mbatch\u001b[49m\u001b[43m,\u001b[49m\u001b[43m \u001b[49m\u001b[38;5;241;43m0\u001b[39;49m\u001b[43m,\u001b[49m\u001b[43m \u001b[49m\u001b[43mout\u001b[49m\u001b[38;5;241;43m=\u001b[39;49m\u001b[43mout\u001b[49m\u001b[43m)\u001b[49m\n",
      "\u001b[0;31mRuntimeError\u001b[0m: stack expects each tensor to be equal size, but got [1, 140] at entry 0 and [1, 165] at entry 1"
     ]
    }
   ],
   "source": [
    "for b in train_dataloader:\n",
    "    break\n",
    "tout = rm(b)"
   ]
  },
  {
   "cell_type": "code",
   "execution_count": 7,
   "id": "c381a1cf-2ceb-4f1c-9f79-c6f70a3afaae",
   "metadata": {
    "tags": []
   },
   "outputs": [
    {
     "data": {
      "text/plain": [
       "(tensor([[-0.7010, -0.6854],\n",
       "         [-0.6841, -0.7022],\n",
       "         [-0.6704, -0.7164],\n",
       "         [-0.6816, -0.7048],\n",
       "         [-0.6888, -0.6975],\n",
       "         [-0.8291, -0.5735],\n",
       "         [-0.6787, -0.7078],\n",
       "         [-0.6922, -0.6941]], device='cuda:1', grad_fn=<LogSoftmaxBackward0>),\n",
       " tensor([[0, 1],\n",
       "         [1, 0],\n",
       "         [1, 0],\n",
       "         [0, 1],\n",
       "         [1, 0],\n",
       "         [0, 1],\n",
       "         [1, 0],\n",
       "         [1, 0]], device='cuda:1'))"
      ]
     },
     "execution_count": 7,
     "metadata": {},
     "output_type": "execute_result"
    }
   ],
   "source": [
    "tout"
   ]
  },
  {
   "cell_type": "code",
   "execution_count": 10,
   "id": "16f22911-5bd9-4660-a882-e0107bdd4307",
   "metadata": {
    "tags": []
   },
   "outputs": [
    {
     "data": {
      "text/plain": [
       "tensor(-0.6722, device='cuda:1', grad_fn=<DivBackward0>)"
      ]
     },
     "execution_count": 10,
     "metadata": {},
     "output_type": "execute_result"
    }
   ],
   "source": [
    "(tout[0] * tout[1]).sum() / tout[1].shape[0]\n",
    "(out * label).sum() / label.shape[0]\n"
   ]
  },
  {
   "cell_type": "code",
   "execution_count": 11,
   "id": "510a2f76-62da-4a27-bf32-db63429154e5",
   "metadata": {
    "tags": []
   },
   "outputs": [
    {
     "data": {
      "text/plain": [
       "torch.Size([8, 2])"
      ]
     },
     "execution_count": 11,
     "metadata": {},
     "output_type": "execute_result"
    }
   ],
   "source": [
    "tout[1].shape[0]"
   ]
  },
  {
   "cell_type": "code",
   "execution_count": null,
   "id": "f1ea2b01-061f-4999-9a2e-e43aae7a39aa",
   "metadata": {},
   "outputs": [],
   "source": []
  },
  {
   "cell_type": "code",
   "execution_count": null,
   "id": "61e506a3-d22a-4bbf-9bbf-0509c2d15ffa",
   "metadata": {},
   "outputs": [],
   "source": []
  },
  {
   "cell_type": "code",
   "execution_count": null,
   "id": "bcdbde52-aea9-4dee-8f85-a8c1fed26ba8",
   "metadata": {},
   "outputs": [],
   "source": []
  },
  {
   "cell_type": "code",
   "execution_count": null,
   "id": "d1f3edfd-077b-47ea-a0b0-d060d1ff1b09",
   "metadata": {},
   "outputs": [],
   "source": []
  },
  {
   "cell_type": "code",
   "execution_count": null,
   "id": "4393bd0e-1269-48d4-b8eb-c83bf98f1be5",
   "metadata": {},
   "outputs": [],
   "source": []
  },
  {
   "cell_type": "markdown",
   "id": "1095535b-3bf5-431c-83a2-cfaa525145a9",
   "metadata": {
    "jp-MarkdownHeadingCollapsed": true,
    "tags": []
   },
   "source": [
    "### check"
   ]
  },
  {
   "cell_type": "code",
   "execution_count": 5,
   "id": "6d45d942-d1a2-4e47-a132-94142b478a03",
   "metadata": {
    "tags": []
   },
   "outputs": [
    {
     "data": {
      "text/plain": [
       "GPT2Model(\n",
       "  (wte): Embedding(50257, 768)\n",
       "  (wpe): Embedding(1024, 768)\n",
       "  (drop): Dropout(p=0.1, inplace=False)\n",
       "  (h): ModuleList(\n",
       "    (0-11): 12 x GPT2Block(\n",
       "      (ln_1): LayerNorm((768,), eps=1e-05, elementwise_affine=True)\n",
       "      (attn): GPT2Attention(\n",
       "        (c_attn): Conv1D()\n",
       "        (c_proj): Conv1D()\n",
       "        (attn_dropout): Dropout(p=0.1, inplace=False)\n",
       "        (resid_dropout): Dropout(p=0.1, inplace=False)\n",
       "      )\n",
       "      (ln_2): LayerNorm((768,), eps=1e-05, elementwise_affine=True)\n",
       "      (mlp): GPT2MLP(\n",
       "        (c_fc): Conv1D()\n",
       "        (c_proj): Conv1D()\n",
       "        (act): NewGELUActivation()\n",
       "        (dropout): Dropout(p=0.1, inplace=False)\n",
       "      )\n",
       "    )\n",
       "  )\n",
       "  (ln_f): LayerNorm((768,), eps=1e-05, elementwise_affine=True)\n",
       ")"
      ]
     },
     "execution_count": 5,
     "metadata": {},
     "output_type": "execute_result"
    }
   ],
   "source": [
    "enc_model = AutoModel.from_pretrained(\"gpt2\")\n",
    "enc_model.to(device)"
   ]
  },
  {
   "cell_type": "code",
   "execution_count": 15,
   "id": "f666db32-2ad3-46f0-8570-5057e32b29fc",
   "metadata": {},
   "outputs": [],
   "source": [
    "prompt = \"the meaning of life \"\n",
    "inp = tokenizer(prompt, return_tensors=\"pt\")\n",
    "\n",
    "out = enc_model(input_ids=inp[\"input_ids\"].to(device), attention_mask=inp[\"attention_mask\"].to(device), output_hidden_states=True)"
   ]
  },
  {
   "cell_type": "code",
   "execution_count": 16,
   "id": "5fd3d43e-9a9b-4b7e-a9a8-723361a2391c",
   "metadata": {
    "tags": []
   },
   "outputs": [
    {
     "data": {
      "text/plain": [
       "torch.Size([1, 5, 768])"
      ]
     },
     "execution_count": 16,
     "metadata": {},
     "output_type": "execute_result"
    }
   ],
   "source": [
    "out.hidden_states[-1].shape"
   ]
  },
  {
   "cell_type": "code",
   "execution_count": 19,
   "id": "8d443d53-c41a-45ce-8137-0ea01c9a282e",
   "metadata": {
    "tags": []
   },
   "outputs": [
    {
     "data": {
      "text/plain": [
       "(torch.Size([1, 768]), torch.Size([1, 768]))"
      ]
     },
     "execution_count": 19,
     "metadata": {},
     "output_type": "execute_result"
    }
   ],
   "source": [
    "out1, out2 = out.hidden_states[-1][:, -1, :], out.hidden_states[-1][:, 0, :]\n",
    "\n",
    "out1.shape, out2.shape,"
   ]
  },
  {
   "cell_type": "code",
   "execution_count": 20,
   "id": "1be45727-eda9-4238-a506-72134782b468",
   "metadata": {
    "tags": []
   },
   "outputs": [],
   "source": [
    "# F.softmax(\n",
    "r1 = nn.Linear(64, 1).to(device)(\n",
    "F.gelu(\n",
    "    nn.Linear(768, 64).to(device)(\n",
    "        torch.concat([out2, out1, out2, out2], dim=0)\n",
    "    )\n",
    ")\n",
    ")\n",
    "r2 = nn.Linear(64, 1).to(device)(\n",
    "F.gelu(\n",
    "    nn.Linear(768, 64).to(device)(\n",
    "        torch.concat([out1, out2, out2, out2], dim=0)\n",
    "    )\n",
    ")\n",
    ")\n",
    "# , dim=0)"
   ]
  },
  {
   "cell_type": "code",
   "execution_count": 21,
   "id": "342e169b-59ca-46db-b063-23dacd9e5acf",
   "metadata": {
    "tags": []
   },
   "outputs": [
    {
     "data": {
      "text/plain": [
       "(tensor([[-0.0151],\n",
       "         [ 0.1738],\n",
       "         [-0.0151],\n",
       "         [-0.0151]], device='cuda:3', grad_fn=<AddmmBackward0>),\n",
       " tensor([[0.0393],\n",
       "         [0.0578],\n",
       "         [0.0578],\n",
       "         [0.0578]], device='cuda:3', grad_fn=<AddmmBackward0>))"
      ]
     },
     "execution_count": 21,
     "metadata": {},
     "output_type": "execute_result"
    }
   ],
   "source": [
    "r1, r2"
   ]
  },
  {
   "cell_type": "code",
   "execution_count": 23,
   "id": "4cafdd22-26ee-4ee3-9a17-d0b2ded5a312",
   "metadata": {
    "tags": []
   },
   "outputs": [
    {
     "data": {
      "text/plain": [
       "tensor([[0.0000, 0.0393],\n",
       "        [0.1738, 0.0578],\n",
       "        [0.0000, 0.0578],\n",
       "        [0.0000, 0.0578]], device='cuda:3', grad_fn=<ReluBackward0>)"
      ]
     },
     "execution_count": 23,
     "metadata": {},
     "output_type": "execute_result"
    }
   ],
   "source": [
    "F.relu(torch.concat((r1, r2), dim=1))"
   ]
  },
  {
   "cell_type": "code",
   "execution_count": 22,
   "id": "5f66f7de-ba50-4f56-ba02-de022bcee5b8",
   "metadata": {
    "tags": []
   },
   "outputs": [
    {
     "data": {
      "text/plain": [
       "tensor([[ 0.5560,  0.7763,  0.2602],\n",
       "        [ 0.3082,  0.3112,  0.1111],\n",
       "        [ 0.1885,  0.2698, -0.0855],\n",
       "        [ 0.1885,  0.2698, -0.0855]], device='cuda:1',\n",
       "       grad_fn=<AddmmBackward0>)"
      ]
     },
     "execution_count": 22,
     "metadata": {},
     "output_type": "execute_result"
    }
   ],
   "source": [
    "cl = nn.Linear(2, 3).to(device)(\n",
    "    torch.concat((r1, r2), dim=1)\n",
    ")\n",
    "\n",
    "cl"
   ]
  },
  {
   "cell_type": "code",
   "execution_count": 24,
   "id": "65997000-2d50-4102-b409-fdf4ee9a9f01",
   "metadata": {
    "tags": []
   },
   "outputs": [
    {
     "data": {
      "text/plain": [
       "tensor([[0.3344, 0.4168, 0.2488],\n",
       "        [0.3541, 0.3552, 0.2908],\n",
       "        [0.3515, 0.3813, 0.2672],\n",
       "        [0.3515, 0.3813, 0.2672]], device='cuda:1', grad_fn=<SoftmaxBackward0>)"
      ]
     },
     "execution_count": 24,
     "metadata": {},
     "output_type": "execute_result"
    }
   ],
   "source": [
    "F.softmax(cl, dim=1)"
   ]
  },
  {
   "cell_type": "code",
   "execution_count": null,
   "id": "6031712a-7e1b-4276-8088-1765f16fcfbb",
   "metadata": {},
   "outputs": [],
   "source": [
    "class DecisionModel(nn.Module):\n",
    "    def __init__(self):\n",
    "        super(DecisionModel, self).__init__()\n",
    "        self.fc1 = nn.Linear(768, 64)\n",
    "        self.fc2 = nn.Linear(64, 1)\n",
    "        self.reward_to_class = nn.Linear(2, 3)\n",
    "\n",
    "    def forward(self, x1, x2):\n",
    "        r1 = self.fc2(F.gelu(self.fc1(x1)))\n",
    "        r2 = self.fc2(F.gelu(self.fc1(x2)))\n",
    "\n",
    "        out = self.reward_to_class(\n",
    "            torch.concat((r1, r2), dim=1)\n",
    "        )\n",
    "\n",
    "        out = F.log_softmax(out, dim=1)\n",
    "        return out\n"
   ]
  },
  {
   "cell_type": "code",
   "execution_count": 55,
   "id": "ec001af9-58c9-435e-bde4-3a578719ee70",
   "metadata": {
    "tags": []
   },
   "outputs": [
    {
     "data": {
      "text/plain": [
       "tensor([[0.8041, 0.1959],\n",
       "        [0.8815, 0.1185],\n",
       "        [0.7102, 0.2898],\n",
       "        [0.7102, 0.2898]], device='cuda:1', grad_fn=<SoftmaxBackward0>)"
      ]
     },
     "execution_count": 55,
     "metadata": {},
     "output_type": "execute_result"
    }
   ],
   "source": [
    "F.softmax(torch.concat((r1, r2), dim=1), dim=1)"
   ]
  },
  {
   "cell_type": "code",
   "execution_count": 22,
   "id": "d00300ad-5a17-45ca-9a76-86c0e945320e",
   "metadata": {
    "tags": []
   },
   "outputs": [],
   "source": [
    "prompt = \"hi there\"\n",
    "inp = tokenizer(prompt, return_tensors=\"pt\")\n",
    "out = enc_model.to(device)(input_ids=inp[\"input_ids\"].to(device), attention_mask=inp[\"attention_mask\"].to(device), output_hidden_states=True)"
   ]
  },
  {
   "cell_type": "code",
   "execution_count": 163,
   "id": "af455f17-f3fa-4813-83ea-82626f950e19",
   "metadata": {
    "tags": []
   },
   "outputs": [],
   "source": []
  },
  {
   "cell_type": "code",
   "execution_count": 101,
   "id": "d66ae2e0-e7da-47eb-8844-14e017802d6e",
   "metadata": {
    "tags": []
   },
   "outputs": [
    {
     "data": {
      "text/plain": [
       "tensor([   11,   269,   264,  ..., 46136, 35061, 45384])"
      ]
     },
     "execution_count": 101,
     "metadata": {},
     "output_type": "execute_result"
    }
   ],
   "source": [
    "out.logits.shape\n",
    "out.logits[:, -1, :].sort(descending=True).indices[0]"
   ]
  },
  {
   "cell_type": "code",
   "execution_count": 165,
   "id": "80303f3c-9f77-4167-a9a4-efd3c4baa793",
   "metadata": {
    "tags": []
   },
   "outputs": [
    {
     "name": "stdout",
     "output_type": "stream",
     "text": [
      "Ġis\n",
      ".\n",
      ",\n",
      "Ġwas\n",
      "'s\n",
      "Ġare\n"
     ]
    }
   ],
   "source": [
    "for i,j in enumerate(out.logits[:, -1, :].sort(descending=True).indices[0]):\n",
    "    print(tokenizer.convert_ids_to_tokens(j.item()))\n",
    "    # print(i, j)\n",
    "    if i == 5:\n",
    "        break"
   ]
  },
  {
   "cell_type": "code",
   "execution_count": 160,
   "id": "855ac89e-6d5d-4ae0-8a3f-c5fe9fd002b2",
   "metadata": {
    "tags": []
   },
   "outputs": [
    {
     "data": {
      "text/plain": [
       "[torch.Size([50257]), torch.Size([1, 12, 25, 64])]"
      ]
     },
     "execution_count": 160,
     "metadata": {},
     "output_type": "execute_result"
    }
   ],
   "source": [
    "[k[1][0][0].shape for k in out.items()]\n",
    "\n",
    "# out.items()[\"out.items()\"]"
   ]
  },
  {
   "cell_type": "code",
   "execution_count": 126,
   "id": "abab9bcb-002d-4010-8f1e-e5d0696e5897",
   "metadata": {
    "collapsed": true,
    "jupyter": {
     "outputs_hidden": true
    },
    "tags": []
   },
   "outputs": [
    {
     "name": "stdout",
     "output_type": "stream",
     "text": [
      "0\n",
      "1\n",
      "2\n",
      "3\n",
      "4\n",
      "5\n",
      "6\n",
      "7\n",
      "8\n",
      "9\n",
      "10\n",
      "11\n",
      "12\n",
      "13\n",
      "14\n",
      "15\n",
      "16\n",
      "17\n",
      "18\n",
      "19\n",
      "the meaning of life  is not to be understood as a \"life\" but as a \"life of the soul\"\n"
     ]
    }
   ],
   "source": [
    "import torch\n",
    "import torch.nn.functional as F\n",
    "\n",
    "prompt = \"the meaning of life \"\n",
    "inp = tokenizer(prompt, return_tensors=\"pt\")\n",
    "\n",
    "out = model(input_ids=inp[\"input_ids\"], attention_mask=inp[\"attention_mask\"])\n",
    "\n",
    "num_tokens_to_generate = 20\n",
    "logits = out.logits\n",
    "generated_token_ids = inp[\"input_ids\"].squeeze().tolist()\n",
    "\n",
    "for _ in range(num_tokens_to_generate):\n",
    "    print(_)\n",
    "    last_token_logits = logits[:, -1, :]\n",
    "    probs = F.softmax(last_token_logits, dim=-1)\n",
    "    next_token_id = torch.argmax(probs, dim=-1).item()\n",
    "\n",
    "    generated_token_ids.append(next_token_id)\n",
    "\n",
    "    inp[\"input_ids\"] = torch.tensor([generated_token_ids]).to(inp[\"input_ids\"].device)\n",
    "    inp[\"attention_mask\"] = torch.tensor(inp[\"attention_mask\"].flatten().tolist() + [1]).view(1, -1)\n",
    "    out = model(input_ids=inp[\"input_ids\"], attention_mask=inp[\"attention_mask\"])\n",
    "    logits = out.logits\n",
    "\n",
    "generated_text = tokenizer.decode(generated_token_ids, skip_special_tokens=True)\n",
    "print(generated_text)\n"
   ]
  },
  {
   "cell_type": "code",
   "execution_count": 127,
   "id": "74bac8c4-ccaa-4e01-bd3c-9251ce76ba81",
   "metadata": {
    "tags": []
   },
   "outputs": [
    {
     "name": "stdout",
     "output_type": "stream",
     "text": [
      "the meaning of life  is not to be understood as a \"life\" but as a \"life of the soul\"\n"
     ]
    }
   ],
   "source": [
    "generated_text = tokenizer.decode(generated_token_ids, skip_special_tokens=True)\n",
    "print(generated_text)\n"
   ]
  },
  {
   "cell_type": "code",
   "execution_count": 79,
   "id": "515fcdf6-dc02-486a-868e-9dd7c36ff155",
   "metadata": {
    "tags": []
   },
   "outputs": [
    {
     "data": {
      "text/plain": [
       "929"
      ]
     },
     "execution_count": 79,
     "metadata": {},
     "output_type": "execute_result"
    }
   ],
   "source": [
    "tokenizer.convert_tokens_to_ids(\"up\")"
   ]
  },
  {
   "cell_type": "code",
   "execution_count": null,
   "id": "78cf5f29-6cfc-4e98-9744-869dad075c77",
   "metadata": {},
   "outputs": [],
   "source": [
    "optimizer = torch.optim.AdamW([\n",
    "    {\"params\": rm.decision.parameters(), \"lr\": 5e-4},\n",
    "    {\"params\": rm.enc_model.parameters(), \"lr\": 5e-5},\n",
    "], lr=5e-5)\n",
    "\n",
    "scheduler = ExponentialLR(optimizer, gamma=0.9)\n",
    "\n",
    "\n",
    "epochs = 3\n",
    "lr_history = []\n",
    "\n",
    "for epoch in range(epochs):\n",
    "    rm.train()\n",
    "    total_loss = 0\n",
    "\n",
    "    for batch_id, batch in enumerate(train_dataloader):\n",
    "        optimizer.zero_grad()\n",
    "\n",
    "        out, label = rm(batch)\n",
    "        loss = - (out * label).sum() / label.shape[0]\n",
    "        loss.backward()\n",
    "        optimizer.step()\n",
    "\n",
    "        total_loss += loss.item()\n",
    "\n",
    "        if batch_id % 50 == 0:\n",
    "            print(loss.item())\n",
    "\n",
    "    scheduler.step()\n",
    "\n",
    "    avg_loss = total_loss / len(train_dataloader)\n",
    "\n",
    "    print(f\"Epoch {epoch+1}\")\n",
    "    print(f\"Average Training Loss: {avg_loss:.4f}\")\n",
    "    print(\"\\n\")"
   ]
  }
 ],
 "metadata": {
  "kernelspec": {
   "display_name": "Python 3 (ipykernel)",
   "language": "python",
   "name": "python3"
  },
  "language_info": {
   "codemirror_mode": {
    "name": "ipython",
    "version": 3
   },
   "file_extension": ".py",
   "mimetype": "text/x-python",
   "name": "python",
   "nbconvert_exporter": "python",
   "pygments_lexer": "ipython3",
   "version": "3.9.7"
  }
 },
 "nbformat": 4,
 "nbformat_minor": 5
}
